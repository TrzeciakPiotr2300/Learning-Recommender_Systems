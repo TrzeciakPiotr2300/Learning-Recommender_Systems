{
  "cells": [
    {
      "cell_type": "markdown",
      "metadata": {
        "id": "view-in-github",
        "colab_type": "text"
      },
      "source": [
        "<a href=\"https://colab.research.google.com/github/TrzeciakPiotr2300/Learning-Recommender_Systems/blob/main/HW04_AdaBoostClassifier.ipynb\" target=\"_parent\"><img src=\"https://colab.research.google.com/assets/colab-badge.svg\" alt=\"Open In Colab\"/></a>"
      ]
    },
    {
      "cell_type": "code",
      "execution_count": null,
      "id": "46ec94a6-3500-4087-b5e2-c32a5c6fd824",
      "metadata": {
        "id": "46ec94a6-3500-4087-b5e2-c32a5c6fd824"
      },
      "outputs": [],
      "source": [
        "from sklearn.ensemble import AdaBoostClassifier\n",
        "from sklearn.datasets import load_iris\n",
        "from sklearn.model_selection import train_test_split\n",
        "from sklearn import metrics\n",
        "from sklearn.model_selection import GridSearchCV\n",
        "import numpy as np\n",
        "import seaborn as sns\n",
        "import matplotlib.pyplot as plt\n",
        "from sklearn.model_selection import cross_val_score\n",
        "from sklearn.svm import SVC\n",
        "import warnings\n",
        "\n",
        "\n",
        "iris = load_iris()\n",
        "X = iris.data\n",
        "y = iris.target"
      ]
    },
    {
      "cell_type": "code",
      "execution_count": null,
      "id": "834e2e05-c8b9-4a2d-9857-e21cbdcbb2fe",
      "metadata": {
        "id": "834e2e05-c8b9-4a2d-9857-e21cbdcbb2fe",
        "outputId": "e399bea2-6bf2-4d40-b56f-700f3fa6bc56"
      },
      "outputs": [
        {
          "name": "stdout",
          "output_type": "stream",
          "text": [
            "['sepal length (cm)', 'sepal width (cm)', 'petal length (cm)', 'petal width (cm)']\n"
          ]
        }
      ],
      "source": [
        "print(iris.feature_names)"
      ]
    },
    {
      "cell_type": "code",
      "execution_count": null,
      "id": "8368b773-0402-4a90-9039-8dd8a61b41f4",
      "metadata": {
        "id": "8368b773-0402-4a90-9039-8dd8a61b41f4",
        "outputId": "3eac9195-b0ac-4464-d7a2-ea1f1f27165b"
      },
      "outputs": [
        {
          "name": "stdout",
          "output_type": "stream",
          "text": [
            "['setosa' 'versicolor' 'virginica']\n"
          ]
        }
      ],
      "source": [
        "print(iris.target_names)"
      ]
    },
    {
      "cell_type": "code",
      "execution_count": null,
      "id": "ee05012e-78eb-47c2-b4c4-03dbd905c72c",
      "metadata": {
        "id": "ee05012e-78eb-47c2-b4c4-03dbd905c72c",
        "outputId": "db50eb48-3eea-4260-a732-cf37900005dd"
      },
      "outputs": [
        {
          "name": "stdout",
          "output_type": "stream",
          "text": [
            "Sample 1: [5.1 3.5 1.4 0.2] (Class: 0, Species: setosa)\n",
            "Sample 2: [4.9 3.  1.4 0.2] (Class: 0, Species: setosa)\n",
            "Sample 3: [4.7 3.2 1.3 0.2] (Class: 0, Species: setosa)\n",
            "Sample 4: [4.6 3.1 1.5 0.2] (Class: 0, Species: setosa)\n",
            "Sample 5: [5.  3.6 1.4 0.2] (Class: 0, Species: setosa)\n"
          ]
        }
      ],
      "source": [
        "for i in range(5):\n",
        "    print(f\"Sample {i+1}: {X[i]} (Class: {y[i]}, Species: {iris.target_names[y[i]]})\")"
      ]
    },
    {
      "cell_type": "code",
      "execution_count": null,
      "id": "e94199ce-8a7d-4095-9f8b-9533459e240f",
      "metadata": {
        "id": "e94199ce-8a7d-4095-9f8b-9533459e240f",
        "outputId": "a635e976-0167-46fe-8436-32dc17f5dd52"
      },
      "outputs": [
        {
          "name": "stdout",
          "output_type": "stream",
          "text": [
            "X_train : \n",
            "[[5.4 3.9 1.3 0.4]\n",
            " [5.8 2.7 3.9 1.2]\n",
            " [5.  2.  3.5 1. ]\n",
            " [5.  3.2 1.2 0.2]\n",
            " [6.8 3.2 5.9 2.3]]\n",
            "\n",
            "X_test : \n",
            "[[6.3 2.5 4.9 1.5]\n",
            " [6.8 3.  5.5 2.1]\n",
            " [6.4 2.8 5.6 2.2]\n",
            " [5.6 3.  4.1 1.3]\n",
            " [4.9 3.6 1.4 0.1]]\n",
            "\n",
            "y_train : \n",
            "[0 1 1 0 2]\n",
            "\n",
            "y_test : \n",
            "[1 2 2 1 0]\n"
          ]
        }
      ],
      "source": [
        "X_train, X_test, y_train, y_test = train_test_split(X,y,\n",
        "                                   random_state = 123,\n",
        "                                   test_size = 0.25,\n",
        "                                   shuffle=True)\n",
        "print('X_train : ')\n",
        "print(X_train[0:5])\n",
        "print('')\n",
        "print('X_test : ')\n",
        "print(X_test[0:5])\n",
        "print('')\n",
        "print('y_train : ')\n",
        "print(y_train[0:5])\n",
        "print('')\n",
        "print('y_test : ')\n",
        "print(y_test[0:5])"
      ]
    },
    {
      "cell_type": "code",
      "execution_count": null,
      "id": "5444f235-d372-41d7-b299-b3156599d228",
      "metadata": {
        "id": "5444f235-d372-41d7-b299-b3156599d228"
      },
      "outputs": [],
      "source": [
        "#AdaBoost model fit"
      ]
    },
    {
      "cell_type": "code",
      "execution_count": null,
      "id": "788e0c74-933d-46f8-bfb0-2206f2f62f34",
      "metadata": {
        "id": "788e0c74-933d-46f8-bfb0-2206f2f62f34",
        "outputId": "0319b96b-ecaf-490b-e114-f32c273795ad"
      },
      "outputs": [
        {
          "name": "stdout",
          "output_type": "stream",
          "text": [
            "Accuracy:  0.9473684210526315\n",
            "Recall:  0.9473684210526315\n",
            "Precision:  0.9578947368421052\n",
            "F1 score:  0.948268106162843\n"
          ]
        }
      ],
      "source": [
        "clf = AdaBoostClassifier(n_estimators=50,\n",
        "                        learning_rate=1)\n",
        "                        #base_estimator=DecisionTreeClassifier\n",
        "model = clf.fit(X_train, y_train)\n",
        "y_pred = model.predict(X_test)\n",
        "print(\"Accuracy: \", metrics.accuracy_score(y_test, y_pred))\n",
        "print(\"Recall: \", metrics.recall_score(y_test, y_pred, average='weighted'))\n",
        "print(\"Precision: \", metrics.precision_score(y_test, y_pred,average='weighted'))\n",
        "print(\"F1 score: \", metrics.f1_score(y_test, y_pred,average='weighted'))"
      ]
    },
    {
      "cell_type": "code",
      "execution_count": null,
      "id": "9e4375de-4833-46df-b70b-9e9efb425570",
      "metadata": {
        "id": "9e4375de-4833-46df-b70b-9e9efb425570"
      },
      "outputs": [],
      "source": [
        "#GridSearchCV"
      ]
    },
    {
      "cell_type": "code",
      "execution_count": null,
      "id": "47d70bec-a98f-4256-b28d-e55fc47b45ca",
      "metadata": {
        "id": "47d70bec-a98f-4256-b28d-e55fc47b45ca",
        "outputId": "837ab8fc-dd18-41c9-9297-6f22c47c9f24"
      },
      "outputs": [
        {
          "data": {
            "text/html": [
              "<style>#sk-container-id-4 {color: black;background-color: white;}#sk-container-id-4 pre{padding: 0;}#sk-container-id-4 div.sk-toggleable {background-color: white;}#sk-container-id-4 label.sk-toggleable__label {cursor: pointer;display: block;width: 100%;margin-bottom: 0;padding: 0.3em;box-sizing: border-box;text-align: center;}#sk-container-id-4 label.sk-toggleable__label-arrow:before {content: \"▸\";float: left;margin-right: 0.25em;color: #696969;}#sk-container-id-4 label.sk-toggleable__label-arrow:hover:before {color: black;}#sk-container-id-4 div.sk-estimator:hover label.sk-toggleable__label-arrow:before {color: black;}#sk-container-id-4 div.sk-toggleable__content {max-height: 0;max-width: 0;overflow: hidden;text-align: left;background-color: #f0f8ff;}#sk-container-id-4 div.sk-toggleable__content pre {margin: 0.2em;color: black;border-radius: 0.25em;background-color: #f0f8ff;}#sk-container-id-4 input.sk-toggleable__control:checked~div.sk-toggleable__content {max-height: 200px;max-width: 100%;overflow: auto;}#sk-container-id-4 input.sk-toggleable__control:checked~label.sk-toggleable__label-arrow:before {content: \"▾\";}#sk-container-id-4 div.sk-estimator input.sk-toggleable__control:checked~label.sk-toggleable__label {background-color: #d4ebff;}#sk-container-id-4 div.sk-label input.sk-toggleable__control:checked~label.sk-toggleable__label {background-color: #d4ebff;}#sk-container-id-4 input.sk-hidden--visually {border: 0;clip: rect(1px 1px 1px 1px);clip: rect(1px, 1px, 1px, 1px);height: 1px;margin: -1px;overflow: hidden;padding: 0;position: absolute;width: 1px;}#sk-container-id-4 div.sk-estimator {font-family: monospace;background-color: #f0f8ff;border: 1px dotted black;border-radius: 0.25em;box-sizing: border-box;margin-bottom: 0.5em;}#sk-container-id-4 div.sk-estimator:hover {background-color: #d4ebff;}#sk-container-id-4 div.sk-parallel-item::after {content: \"\";width: 100%;border-bottom: 1px solid gray;flex-grow: 1;}#sk-container-id-4 div.sk-label:hover label.sk-toggleable__label {background-color: #d4ebff;}#sk-container-id-4 div.sk-serial::before {content: \"\";position: absolute;border-left: 1px solid gray;box-sizing: border-box;top: 0;bottom: 0;left: 50%;z-index: 0;}#sk-container-id-4 div.sk-serial {display: flex;flex-direction: column;align-items: center;background-color: white;padding-right: 0.2em;padding-left: 0.2em;position: relative;}#sk-container-id-4 div.sk-item {position: relative;z-index: 1;}#sk-container-id-4 div.sk-parallel {display: flex;align-items: stretch;justify-content: center;background-color: white;position: relative;}#sk-container-id-4 div.sk-item::before, #sk-container-id-4 div.sk-parallel-item::before {content: \"\";position: absolute;border-left: 1px solid gray;box-sizing: border-box;top: 0;bottom: 0;left: 50%;z-index: -1;}#sk-container-id-4 div.sk-parallel-item {display: flex;flex-direction: column;z-index: 1;position: relative;background-color: white;}#sk-container-id-4 div.sk-parallel-item:first-child::after {align-self: flex-end;width: 50%;}#sk-container-id-4 div.sk-parallel-item:last-child::after {align-self: flex-start;width: 50%;}#sk-container-id-4 div.sk-parallel-item:only-child::after {width: 0;}#sk-container-id-4 div.sk-dashed-wrapped {border: 1px dashed gray;margin: 0 0.4em 0.5em 0.4em;box-sizing: border-box;padding-bottom: 0.4em;background-color: white;}#sk-container-id-4 div.sk-label label {font-family: monospace;font-weight: bold;display: inline-block;line-height: 1.2em;}#sk-container-id-4 div.sk-label-container {text-align: center;}#sk-container-id-4 div.sk-container {/* jupyter's `normalize.less` sets `[hidden] { display: none; }` but bootstrap.min.css set `[hidden] { display: none !important; }` so we also need the `!important` here to be able to override the default hidden behavior on the sphinx rendered scikit-learn.org. See: https://github.com/scikit-learn/scikit-learn/issues/21755 */display: inline-block !important;position: relative;}#sk-container-id-4 div.sk-text-repr-fallback {display: none;}</style><div id=\"sk-container-id-4\" class=\"sk-top-container\"><div class=\"sk-text-repr-fallback\"><pre>GridSearchCV(estimator=AdaBoostClassifier(),\n",
              "             param_grid={&#x27;learning_rate&#x27;: array([0.1, 0.2, 0.3, 0.4, 0.5, 0.6, 0.7, 0.8, 0.9, 1. ]),\n",
              "                         &#x27;n_estimators&#x27;: array([ 1,  2,  3,  4,  5,  6,  7,  8,  9, 10, 11, 12, 13, 14, 15, 16, 17,\n",
              "       18, 19, 20])})</pre><b>In a Jupyter environment, please rerun this cell to show the HTML representation or trust the notebook. <br />On GitHub, the HTML representation is unable to render, please try loading this page with nbviewer.org.</b></div><div class=\"sk-container\" hidden><div class=\"sk-item sk-dashed-wrapped\"><div class=\"sk-label-container\"><div class=\"sk-label sk-toggleable\"><input class=\"sk-toggleable__control sk-hidden--visually\" id=\"sk-estimator-id-8\" type=\"checkbox\" ><label for=\"sk-estimator-id-8\" class=\"sk-toggleable__label sk-toggleable__label-arrow\">GridSearchCV</label><div class=\"sk-toggleable__content\"><pre>GridSearchCV(estimator=AdaBoostClassifier(),\n",
              "             param_grid={&#x27;learning_rate&#x27;: array([0.1, 0.2, 0.3, 0.4, 0.5, 0.6, 0.7, 0.8, 0.9, 1. ]),\n",
              "                         &#x27;n_estimators&#x27;: array([ 1,  2,  3,  4,  5,  6,  7,  8,  9, 10, 11, 12, 13, 14, 15, 16, 17,\n",
              "       18, 19, 20])})</pre></div></div></div><div class=\"sk-parallel\"><div class=\"sk-parallel-item\"><div class=\"sk-item\"><div class=\"sk-label-container\"><div class=\"sk-label sk-toggleable\"><input class=\"sk-toggleable__control sk-hidden--visually\" id=\"sk-estimator-id-9\" type=\"checkbox\" ><label for=\"sk-estimator-id-9\" class=\"sk-toggleable__label sk-toggleable__label-arrow\">estimator: AdaBoostClassifier</label><div class=\"sk-toggleable__content\"><pre>AdaBoostClassifier()</pre></div></div></div><div class=\"sk-serial\"><div class=\"sk-item\"><div class=\"sk-estimator sk-toggleable\"><input class=\"sk-toggleable__control sk-hidden--visually\" id=\"sk-estimator-id-10\" type=\"checkbox\" ><label for=\"sk-estimator-id-10\" class=\"sk-toggleable__label sk-toggleable__label-arrow\">AdaBoostClassifier</label><div class=\"sk-toggleable__content\"><pre>AdaBoostClassifier()</pre></div></div></div></div></div></div></div></div></div></div>"
            ],
            "text/plain": [
              "GridSearchCV(estimator=AdaBoostClassifier(),\n",
              "             param_grid={'learning_rate': array([0.1, 0.2, 0.3, 0.4, 0.5, 0.6, 0.7, 0.8, 0.9, 1. ]),\n",
              "                         'n_estimators': array([ 1,  2,  3,  4,  5,  6,  7,  8,  9, 10, 11, 12, 13, 14, 15, 16, 17,\n",
              "       18, 19, 20])})"
            ]
          },
          "execution_count": 76,
          "metadata": {},
          "output_type": "execute_result"
        }
      ],
      "source": [
        "parameters = { 'n_estimators' : np.arange(1,21),#I checked (20,70) and best was 20\n",
        "               'learning_rate' : np.arange(0.1, 1.1, 0.1) }\n",
        "model = AdaBoostClassifier()\n",
        "grid = GridSearchCV( model, parameters )\n",
        "grid.fit(X_train, y_train)"
      ]
    },
    {
      "cell_type": "code",
      "execution_count": null,
      "id": "7b0434e8-617d-4f71-9b18-a3bfe5cb1de1",
      "metadata": {
        "id": "7b0434e8-617d-4f71-9b18-a3bfe5cb1de1",
        "outputId": "5015a110-6568-422b-ac1f-1cc9bf0606f0"
      },
      "outputs": [
        {
          "name": "stdout",
          "output_type": "stream",
          "text": [
            "Best params: {'learning_rate': 0.9, 'n_estimators': 5}\n",
            "Old accuracy: 0.9473684210526315\n",
            "New accuracy: 0.9473684210526315\n",
            "Both results are the same.\n",
            "\n",
            "New model evaluation\n",
            "Precision: 0.9578947368421052\n",
            "Recall: 0.9473684210526315\n",
            "F1 Score: 0.948268106162843\n",
            "Confusion Matrix:\n",
            " [[16  0  0]\n",
            " [ 0  8  0]\n",
            " [ 0  2 12]]\n"
          ]
        },
        {
          "data": {
            "image/png": "[encoded data removed]",
            "text/plain": [
              "<Figure size 640x480 with 2 Axes>"
            ]
          },
          "metadata": {},
          "output_type": "display_data"
        }
      ],
      "source": [
        "print(\"Best params:\", grid.best_params_)\n",
        "y_pred_new = AdaBoostClassifier(n_estimators=5, learning_rate=0.9).fit(X_train,y_train).predict(X_test)\n",
        "print(\"Old accuracy:\", metrics.accuracy_score(y_test, y_pred))\n",
        "print(\"New accuracy:\", metrics.accuracy_score(y_test, y_pred_new))\n",
        "assert metrics.accuracy_score(y_test, y_pred_new) ==  metrics.accuracy_score(y_test, y_pred)\n",
        "assert metrics.f1_score(y_test, y_pred, average='weighted') == metrics.f1_score(y_test, y_pred_new, average='weighted')\n",
        "assert metrics.recall_score(y_test, y_pred, average='weighted') == metrics.recall_score(y_test, y_pred_new, average='weighted')\n",
        "print(\"Both results are the same.\\n\")\n",
        "print(\"New model evaluation\")\n",
        "\n",
        "print(\"Precision:\", metrics.precision_score(y_test, y_pred_new, average='weighted'))\n",
        "print(\"Recall:\", metrics.recall_score(y_test, y_pred_new, average='weighted'))\n",
        "print(\"F1 Score:\", metrics.f1_score(y_test, y_pred_new, average='weighted'))\n",
        "print(\"Confusion Matrix:\\n\", metrics.confusion_matrix(y_test, y_pred_new))\n",
        "\n",
        "sns.heatmap(metrics.confusion_matrix(y_test, y_pred_new), annot=True, fmt='d')\n",
        "plt.show()"
      ]
    },
    {
      "cell_type": "code",
      "execution_count": null,
      "id": "04ce770a-8138-4d3d-baa6-fb50332a60c9",
      "metadata": {
        "id": "04ce770a-8138-4d3d-baa6-fb50332a60c9",
        "outputId": "d7fd8546-c902-446c-e580-6b81cc7f7817"
      },
      "outputs": [
        {
          "name": "stdout",
          "output_type": "stream",
          "text": [
            "Cross-Validation scores for Ada with Decision Tree base\n",
            "\n",
            "Cross-validation set 1 score: 0.9666666666666667\n",
            "Cross-validation set 2 score: 0.9333333333333333\n",
            "Cross-validation set 3 score: 0.9\n",
            "Cross-validation set 4 score: 0.9333333333333333\n",
            "Cross-validation set 5 score: 1.0\n",
            "\n",
            "Mean Ada with Tree-based cross-validation score: 0.9466666666666667\n"
          ]
        }
      ],
      "source": [
        "cv_scores = cross_val_score(model, X, y, cv=5)\n",
        "print(\"Cross-Validation scores for Ada with Decision Tree base\\n\")\n",
        "for i in range(5):\n",
        "    print(f\"Cross-validation set {i+1} score: {cv_scores[i]}\")\n",
        "print(\"\\nMean Ada with Tree-based cross-validation score:\", cv_scores.mean())\n"
      ]
    },
    {
      "cell_type": "code",
      "execution_count": null,
      "id": "b0097e3d-1ef5-4bab-a2c8-351c238a1923",
      "metadata": {
        "id": "b0097e3d-1ef5-4bab-a2c8-351c238a1923",
        "outputId": "63379603-acce-4a71-f28f-dcecc2d4072e"
      },
      "outputs": [
        {
          "name": "stdout",
          "output_type": "stream",
          "text": [
            "Accuracy with SVC base_estimator: 1.0\n",
            "Now we got better results\n"
          ]
        }
      ],
      "source": [
        "warnings.filterwarnings('ignore')\n",
        "\n",
        "base_estimator = SVC(probability=True)\n",
        "model_with_svc = AdaBoostClassifier(base_estimator=base_estimator, n_estimators=5, learning_rate=0.9)\n",
        "\n",
        "model_with_svc.fit(X_train, y_train)\n",
        "\n",
        "y_pred_svc = model_with_svc.predict(X_test)\n",
        "print(\"Accuracy with SVC base_estimator:\", metrics.accuracy_score(y_test, y_pred_svc))\n",
        "if metrics.accuracy_score(y_test, y_pred_svc) < metrics.accuracy_score(y_test, y_pred):\n",
        "    print(\"Tree base classifier was better\")\n",
        "else:\n",
        "    print(\"Now we got better results\")"
      ]
    },
    {
      "cell_type": "code",
      "execution_count": null,
      "id": "b2f7dfd4-b136-4926-bac8-bbafdec136ed",
      "metadata": {
        "id": "b2f7dfd4-b136-4926-bac8-bbafdec136ed"
      },
      "outputs": [],
      "source": [
        "#Compare SVM estimator with linear kernel using Cross-Validation"
      ]
    },
    {
      "cell_type": "code",
      "execution_count": null,
      "id": "a8f2ade6-e6c7-43fb-82fd-c78a32eca1b0",
      "metadata": {
        "id": "a8f2ade6-e6c7-43fb-82fd-c78a32eca1b0",
        "outputId": "cfc4fe22-9c5d-4341-c338-59599cb19437"
      },
      "outputs": [
        {
          "name": "stdout",
          "output_type": "stream",
          "text": [
            "Cross-Validation scores for Ada with svc linear base\n",
            "\n",
            "Cross-validation set 1 score: 0.9666666666666667\n",
            "Cross-validation set 2 score: 1.0\n",
            "Cross-validation set 3 score: 1.0\n",
            "Cross-validation set 4 score: 0.9666666666666667\n",
            "Cross-validation set 5 score: 1.0\n",
            "\n",
            "Mean Ada with SVC with linear kernel cross-validation score: 0.9866666666666667\n"
          ]
        }
      ],
      "source": [
        "cv_scores_svc = cross_val_score(model_with_svc, X, y, cv=5)\n",
        "print(\"Cross-Validation scores for Ada with svc linear base\\n\")\n",
        "for i in range(5):\n",
        "    print(f\"Cross-validation set {i+1} score: {cv_scores_svc[i]}\")\n",
        "print(\"\\nMean Ada with SVC with linear kernel cross-validation score:\", cv_scores_svc.mean())"
      ]
    }
  ],
  "metadata": {
    "kernelspec": {
      "display_name": "Python 3 (ipykernel)",
      "language": "python",
      "name": "python3"
    },
    "language_info": {
      "codemirror_mode": {
        "name": "ipython",
        "version": 3
      },
      "file_extension": ".py",
      "mimetype": "text/x-python",
      "name": "python",
      "nbconvert_exporter": "python",
      "pygments_lexer": "ipython3",
      "version": "3.11.7"
    },
    "colab": {
      "provenance": [],
      "include_colab_link": true
    }
  },
  "nbformat": 4,
  "nbformat_minor": 5
}