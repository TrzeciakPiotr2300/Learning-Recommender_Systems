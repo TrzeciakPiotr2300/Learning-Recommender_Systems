{
  "cells": [
    {
      "cell_type": "markdown",
      "metadata": {
        "id": "view-in-github",
        "colab_type": "text"
      },
      "source": [
        "<a href=\"https://colab.research.google.com/github/TrzeciakPiotr2300/Learning-Recommender_Systems/blob/main/HW03_knn_evaluation.ipynb\" target=\"_parent\"><img src=\"https://colab.research.google.com/assets/colab-badge.svg\" alt=\"Open In Colab\"/></a>"
      ]
    },
    {
      "cell_type": "code",
      "execution_count": null,
      "id": "82ed0dc9-a06b-4f55-b64d-443dd7ab9b81",
      "metadata": {
        "id": "82ed0dc9-a06b-4f55-b64d-443dd7ab9b81"
      },
      "outputs": [],
      "source": [
        "def user_sim_matrix(ui_matrix, min_common_items=5):\n",
        "    \"\"\"\n",
        "    Calculate the cosine similarity matrix between all users\n",
        "    Upper triangle only - lower triangle remains zeros\n",
        "    Only considers items rated by both users\n",
        "\n",
        "    Args:\n",
        "        ui_matrix: pandas DataFrame, user-item matrix with users as rows and items as columns\n",
        "        min_common_items: minimum number of items rated by both users to calculate similarity\n",
        "\n",
        "    Returns:\n",
        "        pandas DataFrame, cosine similarity matrix with same indices as input matrix\n",
        "    \"\"\"\n",
        "    # Get users\n",
        "    users = ui_matrix.index.tolist()\n",
        "    n = len(users)\n",
        "\n",
        "    # Create empty similarity matrix with appropriate indices\n",
        "    csm = pd.DataFrame(np.zeros((n, n)), index=users, columns=users)\n",
        "\n",
        "    # Calculate cosine similarity - upper triangle only\n",
        "    for i, user1 in enumerate(users):\n",
        "        # Print progress indicator for large datasets\n",
        "        if i % 100 == 0 and i > 0:\n",
        "            print(f\"Processing user {i} of {n}\")\n",
        "\n",
        "        user1_ratings = ui_matrix.loc[user1]\n",
        "\n",
        "        # Items rated by user1 (non-zero ratings)\n",
        "        user1_rated_items = user1_ratings[user1_ratings > 0].index.tolist()\n",
        "\n",
        "        # Calculate only for upper triangle (j >= i)\n",
        "        for j, user2 in enumerate(users[i:], i):\n",
        "            if user1 == user2:\n",
        "                # Self-similarity is 1\n",
        "                csm.loc[user1, user2] = 1.0\n",
        "                continue\n",
        "\n",
        "            user2_ratings = ui_matrix.loc[user2]\n",
        "\n",
        "            # Items rated by user2 (non-zero ratings)\n",
        "            user2_rated_items = user2_ratings[user2_ratings > 0].index.tolist()\n",
        "\n",
        "            # Find common items rated by both users\n",
        "            common_items = list(set(user1_rated_items) & set(user2_rated_items))\n",
        "\n",
        "            # Skip if not enough common items\n",
        "            if len(common_items) < min_common_items:\n",
        "                csm.loc[user1, user2] = 0\n",
        "                continue\n",
        "\n",
        "            # Get ratings for common items\n",
        "            user1_common_ratings = ui_matrix.loc[user1, common_items].values\n",
        "            user2_common_ratings = ui_matrix.loc[user2, common_items].values\n",
        "\n",
        "            # Calculate norms for the common item vectors\n",
        "            norm1 = np.sqrt(np.sum(user1_common_ratings ** 2))\n",
        "            norm2 = np.sqrt(np.sum(user2_common_ratings ** 2))\n",
        "\n",
        "            # Avoid division by zero\n",
        "            if norm1 == 0 or norm2 == 0:\n",
        "                sim = 0\n",
        "            else:\n",
        "                # Calculate dot product for common items only\n",
        "                dot_product = np.dot(user1_common_ratings, user2_common_ratings)\n",
        "                sim = dot_product / (norm1 * norm2)\n",
        "\n",
        "            # Fill only the upper triangle cell\n",
        "            csm.loc[user1, user2] = sim\n",
        "\n",
        "    return csm"
      ]
    },
    {
      "cell_type": "code",
      "execution_count": null,
      "id": "ceb566a7-f09e-4cb5-ada4-546ac6484f94",
      "metadata": {
        "id": "ceb566a7-f09e-4cb5-ada4-546ac6484f94"
      },
      "outputs": [],
      "source": [
        "# Here I define a function that returns k nearest neighbours to given user\n",
        "def k_neighbours(active_user, k, similarity_matrix):\n",
        "    \"\"\"\n",
        "    Returns the IDs of K nearest neighbors of the active user based on similarity_matrix\n",
        "\n",
        "    Args:\n",
        "        active_user: user ID for whom we find neighbors\n",
        "        k: number of nearest neighbors to return\n",
        "        similarity_matrix: DataFrame, similarity matrix where indices are user IDs\n",
        "\n",
        "    Returns:\n",
        "        list of user IDs of the K nearest neighbors\n",
        "    \"\"\"\n",
        "    # Get active user's row and column (users with higher IDs)\n",
        "    row_similarities = similarity_matrix.loc[active_user].copy()\n",
        "    col_similarities = similarity_matrix[active_user].copy()\n",
        "\n",
        "    # Combine them, keeping the highest similarity values\n",
        "    all_similarities = pd.Series(index=similarity_matrix.index)\n",
        "\n",
        "    for user in all_similarities.index:\n",
        "        if user == active_user:\n",
        "            all_similarities[user] = 0  # Skip self\n",
        "        elif user > active_user:  # Check row\n",
        "            all_similarities[user] = row_similarities[user]\n",
        "        else:  # Check column\n",
        "            all_similarities[user] = col_similarities[user]\n",
        "\n",
        "    # Sort by similarity in descending order\n",
        "    sorted_neighbours = all_similarities.sort_values(ascending=False)\n",
        "\n",
        "    # Return the top k user IDs\n",
        "    return sorted_neighbours.index[:k].tolist()"
      ]
    },
    {
      "cell_type": "code",
      "execution_count": null,
      "id": "04255372-8fdc-46df-8693-f14419bfcc59",
      "metadata": {
        "id": "04255372-8fdc-46df-8693-f14419bfcc59"
      },
      "outputs": [],
      "source": [
        "def k_neighbours_who_rated(active_user, k, similarity_matrix, item_id, user_item_matrix):\n",
        "    \"\"\"\n",
        "    Returns the IDs of K nearest neighbors who have rated a specific item\n",
        "\n",
        "    Args:\n",
        "        active_user: user ID for whom we find neighbors\n",
        "        k: number of nearest neighbors to return\n",
        "        similarity_matrix: DataFrame, similarity matrix where indices are user IDs\n",
        "        item_id: ID of the item that neighbors must have rated\n",
        "        user_item_matrix: user-item matrix\n",
        "\n",
        "    Returns:\n",
        "        list of user IDs of the K nearest neighbors who rated the item\n",
        "    \"\"\"\n",
        "# changes down\n",
        "    # Check if item exists in the matrix\n",
        "    if item_id not in user_item_matrix.columns:\n",
        "        return []\n",
        "\n",
        "    # Get all users who have rated the item\n",
        "    try:\n",
        "        users_who_rated = user_item_matrix[user_item_matrix[item_id] > 0].index.tolist()\n",
        "    except KeyError:\n",
        "        return []\n",
        "# changes up #\n",
        "\n",
        "    # Rest of the function stays the same...\n",
        "    # Get all users who have rated the item\n",
        "    #users_who_rated = user_item_matrix[user_item_matrix[item_id] > 0].index.tolist()\n",
        "\n",
        "    # Get all similarities, combining row and column\n",
        "    row_similarities = similarity_matrix.loc[active_user].copy()\n",
        "    col_similarities = similarity_matrix[active_user].copy()\n",
        "\n",
        "    all_similarities = pd.Series(index=similarity_matrix.index)\n",
        "    for user in all_similarities.index:\n",
        "        if user == active_user:\n",
        "            all_similarities[user] = 0  # Skip self\n",
        "        elif user > active_user:  # Check row\n",
        "            all_similarities[user] = row_similarities[user]\n",
        "        else:  # Check column\n",
        "            all_similarities[user] = col_similarities[user]\n",
        "\n",
        "    # Filter to include only users who rated the item and exclude active user\n",
        "    filtered_similarities = all_similarities.loc[users_who_rated]\n",
        "    if active_user in filtered_similarities.index:\n",
        "        filtered_similarities = filtered_similarities.drop(active_user)\n",
        "\n",
        "    # Sort by similarity in descending order\n",
        "    sorted_neighbours = filtered_similarities.sort_values(ascending=False)\n",
        "\n",
        "    # Return the top k user IDs\n",
        "    return sorted_neighbours.index[:k].tolist()"
      ]
    },
    {
      "cell_type": "code",
      "execution_count": null,
      "id": "27315020-bb51-497e-83b0-ce63be511a88",
      "metadata": {
        "id": "27315020-bb51-497e-83b0-ce63be511a88"
      },
      "outputs": [],
      "source": [
        "# Now I try to implement the rating system (predictions)\n",
        "# It is weighted sum\n",
        "def predict_rating(active_user, item_id, user_item_matrix, similarity_matrix, k=10, treshold=0.1, min_votes=3):\n",
        "    \"\"\"\n",
        "    Predict the rating an active user would give to an item using KNN\n",
        "\n",
        "    Args:\n",
        "        active_user: user ID for whom we predict the rating\n",
        "        item_id: item ID for which we predict the rating\n",
        "        user_item_matrix: user-item matrix\n",
        "        similarity_matrix: similarity matrix\n",
        "        k: number of nearest neighbors to consider\n",
        "        min_votes: minimum number of votes required\n",
        "\n",
        "    Returns:\n",
        "        float: predicted rating or None if prediction can't be made\n",
        "    \"\"\"\n",
        "# changes down #\n",
        "    # Check if user exists in the matrix\n",
        "    if active_user not in user_item_matrix.index:\n",
        "        return None\n",
        "\n",
        "    # Check if item exists in the matrix\n",
        "    if item_id not in user_item_matrix.columns:\n",
        "        return None\n",
        "\n",
        "    # Check if user has already rated the item\n",
        "    try:\n",
        "        if user_item_matrix.loc[active_user, item_id] > 0:\n",
        "            return user_item_matrix.loc[active_user, item_id]\n",
        "    except (KeyError, ValueError):\n",
        "        return None\n",
        "# Changes up #\n",
        "    # Check if user has already rated the item\n",
        "    # if user_item_matrix.loc[active_user, item_id] > 0:\n",
        "    #     return user_item_matrix.loc[active_user, item_id]\n",
        "\n",
        "    # Get k nearest neighbors\n",
        "    neighbors = k_neighbours(active_user, k, similarity_matrix)\n",
        "\n",
        "    # Filter to neighbors who rated the item\n",
        "    neighbors_who_rated = [n for n in neighbors if user_item_matrix.loc[n, item_id] > 0]\n",
        "\n",
        "    # If not enough neighbors rated the item, get additional neighbors who did rate it\n",
        "    if len(neighbors_who_rated) < min_votes:\n",
        "        additional_neighbors = k_neighbours_who_rated(\n",
        "            active_user,\n",
        "            min_votes - len(neighbors_who_rated),\n",
        "            similarity_matrix,\n",
        "            item_id,\n",
        "            user_item_matrix\n",
        "        )\n",
        "        neighbors_who_rated.extend([n for n in additional_neighbors if n not in neighbors_who_rated])\n",
        "\n",
        "    # If still not enough neighbors, return None\n",
        "    if len(neighbors_who_rated) < min_votes:\n",
        "        return None\n",
        "\n",
        "    # Calculate weighted average of ratings (can be changed to majority voting)\n",
        "    weighted_sum = 0\n",
        "    similarity_sum = 0\n",
        "\n",
        "    for neighbor in neighbors_who_rated:\n",
        "        # Get similarity, checking both row and column as needed\n",
        "        if neighbor > active_user:\n",
        "            similarity = similarity_matrix.loc[active_user, neighbor]\n",
        "        else:\n",
        "            similarity = similarity_matrix.loc[neighbor, active_user]\n",
        "\n",
        "        rating = user_item_matrix.loc[neighbor, item_id]\n",
        "\n",
        "        weighted_sum += similarity * rating\n",
        "        similarity_sum += abs(similarity)\n",
        "\n",
        "    # Avoid division by zero\n",
        "    if similarity_sum == 0:\n",
        "        return None\n",
        "\n",
        "    score = weighted_sum / similarity_sum\n",
        "    # Return weighted average (can be rounded up to closest integer number if needed)\n",
        "    if score - np.floor(score) < treshold:\n",
        "        return int(np.floor(score))\n",
        "    else:\n",
        "        return int(np.ceil(score))"
      ]
    },
    {
      "cell_type": "code",
      "execution_count": null,
      "id": "5fe5cb8b-efa7-4a42-8c4f-acf6ddc23115",
      "metadata": {
        "id": "5fe5cb8b-efa7-4a42-8c4f-acf6ddc23115"
      },
      "outputs": [],
      "source": [
        "##########                                 ##########\n",
        "##########   Now we will do our homework   ##########\n",
        "##########                                 ##########"
      ]
    },
    {
      "cell_type": "code",
      "execution_count": null,
      "id": "d1a2dd07-b095-49f8-85e7-f2d452ac9587",
      "metadata": {
        "id": "d1a2dd07-b095-49f8-85e7-f2d452ac9587",
        "outputId": "794b56fe-3e19-474c-a3c3-8d033a980a83"
      },
      "outputs": [
        {
          "name": "stdout",
          "output_type": "stream",
          "text": [
            "Number of users: 943\n",
            "Number of films: 1682\n",
            "Number of ratings: 100000\n",
            "u_data shape: (100000, 4)\n",
            "['user_id' 'item_id' 'rating' 'timestamp']\n"
          ]
        }
      ],
      "source": [
        "import pandas as pd\n",
        "import numpy as np\n",
        "\n",
        "#u.data\n",
        "file_path = \"ml-100k/u.data\"\n",
        "column_names = [\"user_id\", \"item_id\", \"rating\", \"timestamp\"]\n",
        "u_data = pd.read_csv(file_path, sep=\"\\t\", names=column_names, header=None)\n",
        "\n",
        "#u.item\n",
        "file_path = \"ml-100k/u.item\"\n",
        "column_names = [\n",
        "    \"movie_id\", \"movie_title\", \"release_date\", \"video_release_date\", \"IMDb_URL\",\n",
        "    \"unknown\", \"Action\", \"Adventure\", \"Animation\", \"Children's\", \"Comedy\", \"Crime\",\n",
        "    \"Documentary\", \"Drama\", \"Fantasy\", \"Film-Noir\", \"Horror\", \"Musical\", \"Mystery\",\n",
        "    \"Romance\", \"Sci-Fi\", \"Thriller\", \"War\", \"Western\"\n",
        "]\n",
        "u_item = pd.read_csv(file_path, sep=\"|\", names=column_names, encoding=\"latin-1\", header=None)\n",
        "\n",
        "#u.info\n",
        "file_path = \"ml-100k/u.info\"\n",
        "with open(file_path, \"r\") as file:\n",
        "    info = file.readlines()\n",
        "num_users = int(info[0].split()[0])\n",
        "num_items = int(info[1].split()[0])\n",
        "num_ratings = int(info[2].split()[0])\n",
        "print(f\"Number of users: {num_users}\")\n",
        "print(f\"Number of films: {num_items}\")\n",
        "print(f\"Number of ratings: {num_ratings}\")\n",
        "print(f\"u_data shape: {u_data.shape}\")\n",
        "print(u_data.columns.values)"
      ]
    },
    {
      "cell_type": "code",
      "execution_count": null,
      "id": "9e001ec0-68fa-48ab-b74c-bbe1cd74deec",
      "metadata": {
        "id": "9e001ec0-68fa-48ab-b74c-bbe1cd74deec"
      },
      "outputs": [],
      "source": [
        "# Spliting data to train/validation/test - 60/20/20\n",
        "np.random.seed(100)\n",
        "indices = np.random.permutation(u_data.shape[0])\n",
        "train_ind = indices[:int(len(indices) * 0.6)]\n",
        "validation_ind = indices[int(len(indices) * 0.6) : int(len(indices) * 0.8)]\n",
        "test_ind = indices[int(len(indices) * 0.8) : ]\n",
        "u_train, u_validation, u_test = u_data.iloc[train_ind,:], u_data.iloc[validation_ind,:], u_data.iloc[test_ind,:]"
      ]
    },
    {
      "cell_type": "code",
      "execution_count": null,
      "id": "89e89873-98aa-4c57-a9f4-f30138e4adf3",
      "metadata": {
        "id": "89e89873-98aa-4c57-a9f4-f30138e4adf3"
      },
      "outputs": [],
      "source": [
        "# user_item_matrix_train = u_train.pivot(index='user_id', columns='item_id', values='rating').fillna(0)\n",
        "# user_item_matrix_train.to_csv('data/user_item_matrix_train.csv', index=False)\n",
        "\n",
        "# similarity_matrix_train = user_sim_matrix(user_item_matrix_train)\n",
        "#similarity_matrix_train.to_csv(\"data/similarity_matrix_train.csv\", index=True, header=True)\n",
        "\n",
        "ui_matrix_train_full = pd.read_csv('data/user_item_matrix_train.csv')\n",
        "ui_matrix_train_full.index = range(1, len(ui_matrix_train_full) + 1)  # Assuming user_ids start from 1\n",
        "ui_matrix_train_full.columns = [int(col) for col in ui_matrix_train_full.columns]\n",
        "\n",
        "sim_matrix_train_full = pd.read_csv('data/similarity_matrix_train.csv', index_col=0)\n",
        "sim_matrix_train_full.index = [int(idx) for idx in sim_matrix_train_full.index]\n",
        "sim_matrix_train_full.columns = [int(col) for col in sim_matrix_train_full.columns]"
      ]
    },
    {
      "cell_type": "code",
      "execution_count": null,
      "id": "ede7a7d7-fbb8-4fb4-8d92-a7223ed69c16",
      "metadata": {
        "id": "ede7a7d7-fbb8-4fb4-8d92-a7223ed69c16",
        "outputId": "3ccc2dbb-c2af-4d05-8bfc-49fea48ebd12"
      },
      "outputs": [
        {
          "name": "stdout",
          "output_type": "stream",
          "text": [
            "None\n"
          ]
        }
      ],
      "source": [
        "print(predict_rating(5, 600, ui_matrix_train_full, sim_matrix_train_full, k=10, treshold=0.1, min_votes=3))"
      ]
    },
    {
      "cell_type": "code",
      "execution_count": null,
      "id": "a00e5425-47a1-4cb0-b573-619480b78743",
      "metadata": {
        "id": "a00e5425-47a1-4cb0-b573-619480b78743",
        "outputId": "32d2359a-09c9-46e6-b85a-4b69300a724a"
      },
      "outputs": [
        {
          "data": {
            "text/plain": [
              "\"\\nin order to find optimal k, we'll search through all possible k's.\\nbut we may stick to POSSIBE k's, meaning that first we'll find maximum amount of neighbours X \\nand well take min(X, 50) to be the range of k_values to search\\n\""
            ]
          },
          "execution_count": 117,
          "metadata": {},
          "output_type": "execute_result"
        }
      ],
      "source": [
        "\"\"\"\n",
        "in order to find optimal k, we'll search through all possible k's.\n",
        "but we may stick to POSSIBE k's, meaning that first we'll find maximum amount of neighbours X\n",
        "and well take min(X, 50) to be the range of k_values to search\n",
        "\"\"\"\n",
        "# Meaby later :)"
      ]
    },
    {
      "cell_type": "code",
      "execution_count": null,
      "id": "86d668d6-a692-416a-82f8-3e06667700aa",
      "metadata": {
        "id": "86d668d6-a692-416a-82f8-3e06667700aa"
      },
      "outputs": [],
      "source": [
        "# Pradicting rating for u_validation matrix for different k'\n",
        "#initialising\n",
        "k_values = np.arange(1, 11)\n",
        "k_fit = 0\n",
        "\n",
        "n = u_validation.shape[0]\n",
        "accuracy = 0 #initialize\n",
        "right = 0\n",
        "total = n\n",
        "\n",
        "df_accuracy = pd.DataFrame({\n",
        "    'k': k_values,\n",
        "    'accuracy': np.nan\n",
        "})"
      ]
    },
    {
      "cell_type": "code",
      "execution_count": null,
      "id": "7b8d23b3-90e0-4c85-9a75-27249300101d",
      "metadata": {
        "id": "7b8d23b3-90e0-4c85-9a75-27249300101d"
      },
      "outputs": [],
      "source": [
        "## Calculations ##\n",
        "# for (i,k) in enumerate(k_values):\n",
        "#     print(f\"k = {k}\")\n",
        "#     right = 0\n",
        "#     for row in range(n):\n",
        "#         user_id = u_validation['user_id'].iloc[row]\n",
        "#         item_id = u_validation['item_id'].iloc[row]\n",
        "#         rating  = u_validation['rating'].iloc[row]\n",
        "#         if predict_rating(user_id, item_id, ui_matrix_train_full, sim_matrix_train_full, k) == rating:\n",
        "#             right += 1\n",
        "#         if (row % 10000 == 0 and row > 0):\n",
        "#             print(f'{row} out of {n}')\n",
        "#             print(f'current accuracy = {right / row}')\n",
        "#             print(f'cumulativ accuracy = {right / n}')\n",
        "\n",
        "#     df_accuracy.loc[i, 'accuracy'] = right / total\n",
        "\n",
        "#     if right / total > accuracy:\n",
        "#         k_fit = k\n",
        "#         accuracy = right / total\n",
        "\n",
        "#     print(f\"accuracy of {i}: {df_accuracy['accuracy'].iloc[i]}\")\n",
        "df_accuracy.dropna(inplace=True)\n",
        "#df_accuracy_copy = df_accuracy\n",
        "df_accuracy_copy.to_csv(\"data/k_comparison.csv\", index=False)"
      ]
    },
    {
      "cell_type": "code",
      "execution_count": null,
      "id": "e7ae749f-7d92-4b50-a372-0d1b3f57df1b",
      "metadata": {
        "id": "e7ae749f-7d92-4b50-a372-0d1b3f57df1b",
        "outputId": "13f8a6e0-e68c-41ec-b5f0-22434fe51783"
      },
      "outputs": [
        {
          "data": {
            "image/png": "[encoded data removed]",
            "text/plain": [
              "<Figure size 1000x600 with 1 Axes>"
            ]
          },
          "metadata": {},
          "output_type": "display_data"
        }
      ],
      "source": [
        "import matplotlib.pyplot as plt\n",
        "\n",
        "plt.figure(figsize=(10, 6))\n",
        "plt.bar(df_accuracy['k'], df_accuracy['accuracy'], color='skyblue')\n",
        "plt.xlabel('k value')\n",
        "plt.ylabel('Accuracy')\n",
        "plt.title('Accuracy vs k')\n",
        "plt.xticks(df_accuracy['k'])  # żeby każdy k był na osi X\n",
        "plt.grid(axis='y', alpha=0.7)\n",
        "plt.show()"
      ]
    },
    {
      "cell_type": "code",
      "execution_count": null,
      "id": "794a81e8-c388-4e24-987e-7047df0af6ea",
      "metadata": {
        "id": "794a81e8-c388-4e24-987e-7047df0af6ea"
      },
      "outputs": [],
      "source": [
        "def RMSE(y_pred, y_test):\n",
        "    if len(y_pred) != len(y_test):\n",
        "        return None\n",
        "    else:\n",
        "        mse = np.mean((y_test - y_pred) ** 2)\n",
        "        return np.sqrt(mse)\n",
        "\n",
        "def MAE(y_pred, y_test):\n",
        "    if len(y_pred) != len(y_test):\n",
        "        return None\n",
        "    else:\n",
        "        return np.mean(np.abs(y_pred - y_test))\n",
        "\n",
        "def R_squared(y_pred, y_test):\n",
        "    if len(y_pred) != len(y_test):\n",
        "        return None\n",
        "    else:\n",
        "        y_dash = np.mean(y_test)\n",
        "        return 1 - (y_pred - y_test) ** 2 / (y_pred - y_dash) ** 2\n"
      ]
    }
  ],
  "metadata": {
    "kernelspec": {
      "display_name": "Python 3 (ipykernel)",
      "language": "python",
      "name": "python3"
    },
    "language_info": {
      "codemirror_mode": {
        "name": "ipython",
        "version": 3
      },
      "file_extension": ".py",
      "mimetype": "text/x-python",
      "name": "python",
      "nbconvert_exporter": "python",
      "pygments_lexer": "ipython3",
      "version": "3.11.7"
    },
    "colab": {
      "provenance": [],
      "include_colab_link": true
    }
  },
  "nbformat": 4,
  "nbformat_minor": 5
}